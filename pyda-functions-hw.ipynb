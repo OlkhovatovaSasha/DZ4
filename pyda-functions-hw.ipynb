{
 "cells": [
  {
   "cell_type": "markdown",
   "metadata": {},
   "source": [
    "## Задание 1"
   ]
  },
  {
   "cell_type": "markdown",
   "metadata": {},
   "source": [
    "Дан список вида:"
   ]
  },
  {
   "cell_type": "code",
   "execution_count": 1,
   "metadata": {},
   "outputs": [],
   "source": [
    "data = [\n",
    "    [13, 25, 23, 34],\n",
    "    [45, 32, 44, 47],\n",
    "    [12, 33, 23, 95],\n",
    "    [13, 53, 34, 35]\n",
    "]"
   ]
  },
  {
   "cell_type": "markdown",
   "metadata": {},
   "source": [
    "Напишите функцию, которая возвращает сумму элементов на диагонали. Т. е. 13+32+23+35.  \n",
    "Список может быть любой длины, но всегда является \"квадратным\" (количество элементов во вложенных списках равно их количеству)."
   ]
  },
  {
   "cell_type": "code",
   "execution_count": 2,
   "metadata": {},
   "outputs": [],
   "source": [
    "def sum_element(data):\n",
    "    i = 0\n",
    "    diagonal_sum = 0\n",
    "\n",
    "    for line in data:\n",
    "        diagonal_sum += line[i]\n",
    "        i += 1\n",
    "    print(diagonal_sum)"
   ]
  },
  {
   "cell_type": "code",
   "execution_count": 3,
   "metadata": {},
   "outputs": [
    {
     "name": "stdout",
     "output_type": "stream",
     "text": [
      "103\n"
     ]
    }
   ],
   "source": [
    "sum_element(data)"
   ]
  },
  {
   "cell_type": "markdown",
   "metadata": {},
   "source": [
    "## Задание 2"
   ]
  },
  {
   "cell_type": "markdown",
   "metadata": {},
   "source": [
    "Напишите функцию, возвращающую сумму первых n чисел Фибоначчи (для этого вам может понадобится ознакомиться с рекурсией)."
   ]
  },
  {
   "cell_type": "code",
   "execution_count": 4,
   "metadata": {},
   "outputs": [],
   "source": [
    "def sum_Fibo(quantity):\n",
    "    i = 0\n",
    "    number_list = []\n",
    "    \n",
    "    while i < quantity:\n",
    "        if i <= 1:\n",
    "            number_list.append(1)\n",
    "        else:\n",
    "            number = number_list[i-2] + number_list[i-1]\n",
    "            number_list.append(number)    \n",
    "        i += 1\n",
    "    \n",
    "    print(sum(number_list))"
   ]
  },
  {
   "cell_type": "code",
   "execution_count": 5,
   "metadata": {},
   "outputs": [
    {
     "name": "stdout",
     "output_type": "stream",
     "text": [
      "1596\n"
     ]
    }
   ],
   "source": [
    "sum_Fibo(15)"
   ]
  },
  {
   "cell_type": "markdown",
   "metadata": {},
   "source": [
    "## Задание 3\n"
   ]
  },
  {
   "cell_type": "markdown",
   "metadata": {},
   "source": [
    "Напишите функцию, преобразующую произвольный список вида ['2018-01-01', 'yandex', 'cpc', 100] (он может быть любой длины) в словарь {'2018-01-01': {'yandex': {'cpc': 100}}}"
   ]
  },
  {
   "cell_type": "code",
   "execution_count": 51,
   "metadata": {},
   "outputs": [],
   "source": [
    "data_new = [\n",
    "    ['2018-01-01', 'yandex', 'cpc', 100],\n",
    "    ['2018-01-02', 'google', 'cpc', 120, 'dd', 'sgs', 'dd', 'sgs']\n",
    "]"
   ]
  },
  {
   "cell_type": "code",
   "execution_count": 52,
   "metadata": {},
   "outputs": [],
   "source": [
    "def create_dictionary(data_new):\n",
    "    for line in data_new:\n",
    "        i = len(line) - 1\n",
    "        dictionary = line[i]\n",
    "        while i > 0:\n",
    "            dictionary = {line[i-1]:dictionary}\n",
    "            i = i - 1\n",
    "        print(dictionary)\n",
    "    "
   ]
  },
  {
   "cell_type": "code",
   "execution_count": 53,
   "metadata": {},
   "outputs": [
    {
     "name": "stdout",
     "output_type": "stream",
     "text": [
      "{'2018-01-01': {'yandex': {'cpc': 100}}}\n",
      "{'2018-01-02': {'google': {'cpc': {120: {'dd': {'sgs': {'dd': 'sgs'}}}}}}}\n"
     ]
    }
   ],
   "source": [
    "create_dictionary(data_new)"
   ]
  },
  {
   "cell_type": "markdown",
   "metadata": {},
   "source": [
    "## Задание 4"
   ]
  },
  {
   "cell_type": "markdown",
   "metadata": {},
   "source": [
    "Вы работаете секретарем и вам постоянно приходят различные документы. Вы должны быть очень внимательны, чтобы не потерять ни один документ. Каталог документов хранится в следующем виде:"
   ]
  },
  {
   "cell_type": "markdown",
   "metadata": {},
   "source": [
    "Перечень полок, на которых находятся документы хранится в следующем виде:"
   ]
  },
  {
   "cell_type": "markdown",
   "metadata": {},
   "source": [
    "Необходимо реализовать пользовательские команды (внимание! это не название функций, которые должны быть выразительными, а команды, которые вводит пользователь, чтобы получить необходимый результат):"
   ]
  },
  {
   "cell_type": "markdown",
   "metadata": {},
   "source": [
    "- p – people – команда, которая спросит номер документа и выведет имя человека, которому он принадлежит;  "
   ]
  },
  {
   "cell_type": "markdown",
   "metadata": {},
   "source": [
    "- s – shelf – команда, которая спросит номер документа и выведет номер полки, на которой он находится  \n",
    "Правильно обработайте ситуацию, когда пользователь будет вводить несуществующий документ."
   ]
  },
  {
   "cell_type": "markdown",
   "metadata": {},
   "source": [
    "- l – list – команда, которая выведет список всех документов в формате   \n",
    "**passport \"2207 876234\" \"Василий Гупкин\"**  "
   ]
  },
  {
   "cell_type": "markdown",
   "metadata": {},
   "source": [
    "- as – add shelf – команда, которая спросит номер новой полки и добавит ее в перечень"
   ]
  },
  {
   "cell_type": "markdown",
   "metadata": {},
   "source": [
    "- d – delete – команда, которая спросит номер документа и удалит его из каталога и из перечня полок. Предусмотрите сценарий, когда пользователь вводит несуществующий документ;  "
   ]
  },
  {
   "cell_type": "markdown",
   "metadata": {},
   "source": [
    "- m – move – команда, которая спросит номер документа и целевую полку и переместит его с текущей полки на целевую. Корректно обработайте кейсы, когда пользователь пытается переместить несуществующий документ или переместить документ на несуществующую полку"
   ]
  },
  {
   "cell_type": "markdown",
   "metadata": {},
   "source": [
    "- a – add – команда, которая добавит новый документ в каталог и в перечень полок, спросив его номер, тип, имя владельца и номер полки, на котором он будет храниться."
   ]
  },
  {
   "cell_type": "code",
   "execution_count": 1,
   "metadata": {},
   "outputs": [],
   "source": [
    "documents = [\n",
    "    {'type': 'passport', 'number': '2207 876234', 'name': 'Василий Гупкин' },\n",
    "    {'type': 'invoice', 'number': '11-2', 'name': 'Геннадий Покемонов'},\n",
    "    {'type': 'insurance', 'number': '10006', 'name': 'Аристарх Павлов'}\n",
    "]"
   ]
  },
  {
   "cell_type": "code",
   "execution_count": 11,
   "metadata": {},
   "outputs": [],
   "source": [
    "directories = {\n",
    "    '1': ['2207 876234', '11-2', '5455 028765'],\n",
    "    '2': ['10006', '5400 028765', '5455 002299'],\n",
    "    '3': []\n",
    "}"
   ]
  },
  {
   "cell_type": "code",
   "execution_count": 12,
   "metadata": {},
   "outputs": [],
   "source": [
    "def people():\n",
    "    number = str(input(\"Введите номер документа: \"))     \n",
    "    i = 0\n",
    "    \n",
    "    for line in documents:\n",
    "        if number in line.values():\n",
    "            print(line.get('name'))\n",
    "            i = 1\n",
    "    \n",
    "    if i == 0:                \n",
    "        print('Ошибка! Вы ввели несуществующий документ!')\n"
   ]
  },
  {
   "cell_type": "code",
   "execution_count": 13,
   "metadata": {},
   "outputs": [],
   "source": [
    "def shelf ():\n",
    "    number_doc = str(input(\"Введите номер документа: \"))\n",
    "        \n",
    "    if number_doc in str(documents.values()):\n",
    "        for line in directories:\n",
    "            a = directories.get(line)\n",
    "    \n",
    "            if a.count(number_doc) == 1:\n",
    "                print(line)\n",
    "    else:\n",
    "        print('Ошибка! Вы ввели несуществующий документ!')"
   ]
  },
  {
   "cell_type": "code",
   "execution_count": 14,
   "metadata": {},
   "outputs": [],
   "source": [
    "def list_():\n",
    "    \n",
    "    for line in documents:\n",
    "        format_doc, number_doc, name = line.values()\n",
    "        print(format_doc, number_doc, name)"
   ]
  },
  {
   "cell_type": "code",
   "execution_count": 15,
   "metadata": {},
   "outputs": [],
   "source": [
    "def add_shelf():\n",
    "    number_shelf = str(input(\"Введите номер полки: \"))\n",
    "    \n",
    "    if number_shelf not in str(directories.keys()):\n",
    "        directories.setdefault(number_shelf, [])\n",
    "    print(directories)"
   ]
  },
  {
   "cell_type": "code",
   "execution_count": 16,
   "metadata": {},
   "outputs": [],
   "source": [
    "def delete():\n",
    "    number_doc = str(input(\"Введите номер документа: \"))  \n",
    "    i=0\n",
    "    \n",
    "    if number_doc in str(directories.values()):\n",
    "    \n",
    "        for line in documents:\n",
    "            for valu in line.values():\n",
    "                if valu == number_doc:\n",
    "                    del documents[i]\n",
    "            i += 1\n",
    "            \n",
    "        for line in directories:\n",
    "            for valu in directories.get(line):\n",
    "                if valu == number_doc:\n",
    "                    directories.get(line).remove(number_doc)\n",
    "                    \n",
    "        print(documents)\n",
    "        print(directories)            \n",
    "                \n",
    "    else:\n",
    "        print('Ошибка! Вы ввели несуществующий документ!')\n",
    "        \n",
    "    "
   ]
  },
  {
   "cell_type": "code",
   "execution_count": 17,
   "metadata": {},
   "outputs": [],
   "source": [
    "def move():\n",
    "    number_doc = str(input(\"Введите номер документа: \"))\n",
    "    number_shelf = str(input(\"Введите номер полки: \"))\n",
    "    \n",
    "    if number_doc in str(directories.values()) and number_shelf in str(directories.keys()):\n",
    "        \n",
    "        for line in directories:\n",
    "            for valu in directories.get(line):\n",
    "                if valu == number_doc:\n",
    "                    directories.get(line).remove(number_doc)\n",
    "        \n",
    "        directories.get(number_shelf).append(number_doc)\n",
    "        \n",
    "        print(directories)\n",
    "        \n",
    "    else:\n",
    "        print('Ошибка! Вы ввели несуществующий номер документа или номер полки!')\n",
    "        \n",
    "    \n"
   ]
  },
  {
   "cell_type": "code",
   "execution_count": 18,
   "metadata": {},
   "outputs": [],
   "source": [
    "def add():\n",
    "    number_doc = str(input(\"Введите номер документа: \"))\n",
    "    type_doc = str(input(\"Введите тип документа: \"))\n",
    "    name = str(input(\"Введите Имя и Фамилию через пробел: \"))\n",
    "    number_shelf = str(input(\"Введите номер полки: \"))\n",
    "    \n",
    "    if number_shelf in directories.values():\n",
    "        directories.get(number_shelf).append(number_doc)\n",
    "    \n",
    "    else:\n",
    "        directories.setdefault(number_shelf, [])\n",
    "        directories.get(number_shelf).append(number_doc)\n",
    "\n",
    "    documents.append({'type': type_doc, 'number': number_doc, 'name': name})"
   ]
  },
  {
   "cell_type": "code",
   "execution_count": 19,
   "metadata": {},
   "outputs": [],
   "source": [
    "def main():\n",
    "\n",
    "    input_value = input(\"Введите команду: \")\n",
    "\n",
    "    if input_value == 'p': \n",
    "        people()\n",
    "            \n",
    "    if input_value == 's':\n",
    "        shelf ()\n",
    "    \n",
    "    if input_value == 'l':\n",
    "        list_()\n",
    "    \n",
    "    if input_value == 'as':\n",
    "        add_shelf()\n",
    "        \n",
    "    if input_value == 'd':\n",
    "        delete()\n",
    "        \n",
    "    if input_value == 'm':\n",
    "        move()\n",
    "    \n",
    "    if input_value == 'a':\n",
    "        add() "
   ]
  },
  {
   "cell_type": "code",
   "execution_count": null,
   "metadata": {},
   "outputs": [],
   "source": [
    "main()"
   ]
  }
 ],
 "metadata": {
  "kernelspec": {
   "display_name": "Python 3",
   "language": "python",
   "name": "python3"
  },
  "language_info": {
   "codemirror_mode": {
    "name": "ipython",
    "version": 3
   },
   "file_extension": ".py",
   "mimetype": "text/x-python",
   "name": "python",
   "nbconvert_exporter": "python",
   "pygments_lexer": "ipython3",
   "version": "3.7.4"
  }
 },
 "nbformat": 4,
 "nbformat_minor": 2
}
